{
 "cells": [
  {
   "cell_type": "markdown",
   "metadata": {
    "colab_type": "text",
    "id": "view-in-github"
   },
   "source": [
    "<a href=\"https://colab.research.google.com/github/Tensor-Reloaded/Neural-Networks-Template-2025/blob/main/Lab02/NumpyExcercises.ipynb\" target=\"_parent\"><img src=\"https://colab.research.google.com/assets/colab-badge.svg\" alt=\"Open In Colab\"/></a>"
   ]
  },
  {
   "cell_type": "markdown",
   "metadata": {
    "id": "1osmmLv1t8Vc"
   },
   "source": [
    "# Excercises with numpy"
   ]
  },
  {
   "cell_type": "code",
   "execution_count": 2,
   "metadata": {
    "colab": {
     "base_uri": "https://localhost:8080/"
    },
    "id": "R-psdy852TWD",
    "outputId": "81c31bfd-d099-4422-810a-699612394d98"
   },
   "outputs": [
    {
     "name": "stdout",
     "output_type": "stream",
     "text": [
      "Requirement already satisfied: timed-decorator in /opt/homebrew/Caskroom/miniforge/base/envs/313/lib/python3.13/site-packages (1.6.1)\n",
      "Note: you may need to restart the kernel to use updated packages.\n"
     ]
    }
   ],
   "source": [
    "%pip install timed-decorator"
   ]
  },
  {
   "cell_type": "code",
   "execution_count": 4,
   "metadata": {
    "id": "Pv2iHv15vu67"
   },
   "outputs": [],
   "source": [
    "import numpy as np\n",
    "from sklearn.metrics import confusion_matrix, accuracy_score, f1_score\n",
    "from timed_decorator.simple_timed import timed\n",
    "from typing import Tuple"
   ]
  },
  {
   "cell_type": "code",
   "execution_count": 5,
   "metadata": {
    "id": "7OOZ-UGxt77b"
   },
   "outputs": [],
   "source": [
    "predicted = np.array([\n",
    "    1,1,1,0,1,0,1,1,0,0\n",
    "])\n",
    "actual = np.array([\n",
    "    1,1,1,1,0,0,1,0,0,0\n",
    "])\n",
    "\n",
    "big_size = 500000\n",
    "big_actual = np.repeat(actual, big_size)\n",
    "big_predicted = np.repeat(predicted, big_size)\n"
   ]
  },
  {
   "cell_type": "markdown",
   "metadata": {
    "id": "WR9T8rfg94YQ"
   },
   "source": [
    "If you are not familiar with the confusion matrix for binary classification, check https://www.geeksforgeeks.org/confusion-matrix-machine-learning/#what-is-a-confusion-matrix"
   ]
  },
  {
   "cell_type": "markdown",
   "metadata": {
    "id": "DlvLoCK835ta"
   },
   "source": [
    "### Exercise 1\n",
    "\n",
    "Implement a method to retrieve the confusion matrix values using numpy operations. Aim to make your method faster than the sklearn implementation."
   ]
  },
  {
   "cell_type": "code",
   "execution_count": null,
   "metadata": {
    "id": "KXCV8jvPydpC"
   },
   "outputs": [
    {
     "name": "stdout",
     "output_type": "stream",
     "text": [
      "tp_fp_fn_tn_sklearn(ndarray(10,), ndarray(10,)) -> total time: 0.000446333s\n",
      "tp_fp_fn_tn_numpy(ndarray(10,), ndarray(10,)) -> total time: 0.000066583s\n"
     ]
    }
   ],
   "source": [
    "@timed(use_seconds=True, show_args=True)\n",
    "def tp_fp_fn_tn_sklearn(gt: np.ndarray, pred: np.ndarray) -> Tuple[int, ...]:\n",
    "    tn, fp, fn, tp = confusion_matrix(gt, pred).ravel()\n",
    "    return tp, fp, fn, tn\n",
    "\n",
    "\n",
    "@timed(use_seconds=True, show_args=True)\n",
    "def tp_fp_fn_tn_numpy(gt: np.ndarray, pred: np.ndarray) -> Tuple[int, ...]:\n",
    "    tp=np.sum((gt==1) & (pred==1))\n",
    "    fp=np.sum((gt==0) & (pred==1))\n",
    "    tn=np.sum((gt==0) & (pred==0))\n",
    "    fn=np.sum((gt==1) & (pred==0))\n",
    "    return tp, fp, fn, tn\n",
    "\n",
    "\n",
    "assert tp_fp_fn_tn_sklearn(actual, predicted) == tp_fp_fn_tn_numpy(actual, predicted)"
   ]
  },
  {
   "cell_type": "code",
   "execution_count": 29,
   "metadata": {
    "id": "qlxFQ_1Pywjb"
   },
   "outputs": [
    {
     "name": "stdout",
     "output_type": "stream",
     "text": [
      "tp_fp_fn_tn_sklearn(ndarray(5000000,), ndarray(5000000,)) -> total time: 0.045868875s\n",
      "tp_fp_fn_tn_numpy(ndarray(5000000,), ndarray(5000000,)) -> total time: 0.008770250s\n"
     ]
    }
   ],
   "source": [
    "rez_1 = tp_fp_fn_tn_sklearn(big_actual, big_predicted)\n",
    "rez_2 = tp_fp_fn_tn_numpy(big_actual, big_predicted)\n",
    "\n",
    "assert rez_1 == rez_2"
   ]
  },
  {
   "cell_type": "markdown",
   "metadata": {
    "id": "LuJUVV1c_Iu8"
   },
   "source": [
    "```\n",
    "tp_fp_fn_tn_sklearn(ndarray(5000000,), ndarray(5000000,)) -> total time: 1.362611559s\n",
    "tp_fp_fn_tn_numpy(ndarray(5000000,), ndarray(5000000,)) -> total time: 0.061580794s\n",
    "```"
   ]
  },
  {
   "cell_type": "markdown",
   "metadata": {
    "id": "9VtOouGY-dGU"
   },
   "source": [
    "### Exercise 2\n",
    "\n",
    "Implement a method to retrieve the calculate the accuracy using numpy operations."
   ]
  },
  {
   "cell_type": "markdown",
   "metadata": {
    "id": "FrOvVlQi6Vqx"
   },
   "source": [
    "Accuracy = $\\frac{TP + TN}{TP + FP + FN + TN}$"
   ]
  },
  {
   "cell_type": "code",
   "execution_count": 14,
   "metadata": {
    "id": "FvGCS4wo149M"
   },
   "outputs": [
    {
     "name": "stdout",
     "output_type": "stream",
     "text": [
      "accuracy_sklearn(ndarray(10,), ndarray(10,)) -> total time: 0.000448208s\n",
      "tp_fp_fn_tn_numpy(ndarray(10,), ndarray(10,)) -> total time: 0.000051208s\n",
      "accuracy_numpy(ndarray(10,), ndarray(10,)) -> total time: 0.037729250s\n"
     ]
    }
   ],
   "source": [
    "@timed(use_seconds=True, show_args=True)\n",
    "def accuracy_sklearn(gt: np.ndarray, pred: np.ndarray) -> float:\n",
    "    return accuracy_score(gt, pred)\n",
    "\n",
    "\n",
    "@timed(use_seconds=True, show_args=True)\n",
    "def accuracy_numpy(gt: np.ndarray, pred: np.ndarray) -> float:\n",
    "    tp, fp, fn, tn=tp_fp_fn_tn_numpy(gt, pred)\n",
    "    return (tp+tn)/(tp+fp+fn+tn)\n",
    "\n",
    "\n",
    "assert accuracy_sklearn(actual, predicted) == accuracy_numpy(actual, predicted)"
   ]
  },
  {
   "cell_type": "code",
   "execution_count": 15,
   "metadata": {
    "id": "yYwMTAdX13RU"
   },
   "outputs": [
    {
     "name": "stdout",
     "output_type": "stream",
     "text": [
      "accuracy_sklearn(ndarray(5000000,), ndarray(5000000,)) -> total time: 0.030863917s\n",
      "tp_fp_fn_tn_numpy(ndarray(5000000,), ndarray(5000000,)) -> total time: 0.009694667s\n",
      "accuracy_numpy(ndarray(5000000,), ndarray(5000000,)) -> total time: 0.044101000s\n"
     ]
    }
   ],
   "source": [
    "rez_1 = accuracy_sklearn(big_actual, big_predicted)\n",
    "rez_2 = accuracy_numpy(big_actual, big_predicted)\n",
    "\n",
    "assert np.isclose(rez_1, rez_2)"
   ]
  },
  {
   "cell_type": "markdown",
   "metadata": {
    "id": "Y4vOxFRX_DbN"
   },
   "source": [
    "```\n",
    "accuracy_sklearn(ndarray(5000000,), ndarray(5000000,)) -> total time: 0.737005607s\n",
    "accuracy_numpy(ndarray(5000000,), ndarray(5000000,)) -> total time: 0.045633154s\n",
    "```"
   ]
  },
  {
   "cell_type": "markdown",
   "metadata": {
    "id": "9a4kiUip-iaB"
   },
   "source": [
    "## Excercise 3\n",
    "\n",
    "Implement a method to calculate the F1-Score using numpy operations. Be careful at corner cases (divide by 0)."
   ]
  },
  {
   "cell_type": "markdown",
   "metadata": {
    "id": "xlVLJUKe6nLf"
   },
   "source": [
    "Precision = $\\frac{TP}{TP + FP}$\n",
    "\n",
    "Recall = $\\frac{TP}{TP + FN}$\n",
    "\n",
    "F1-Score = $2 \\cdot \\frac{Precision \\cdot Recall}{Precision + Recall}$"
   ]
  },
  {
   "cell_type": "code",
   "execution_count": 23,
   "metadata": {
    "id": "bf26jyp65jWp"
   },
   "outputs": [
    {
     "name": "stdout",
     "output_type": "stream",
     "text": [
      "f1_score_sklearn(ndarray(10,), ndarray(10,)) -> total time: 0.001011000s\n",
      "0.7272727272727273\n",
      "tp_fp_fn_tn_numpy(ndarray(10,), ndarray(10,)) -> total time: 0.000057917s\n",
      "f1_score_numpy(ndarray(10,), ndarray(10,)) -> total time: 0.040360792s\n",
      "0.7272727272727272\n"
     ]
    }
   ],
   "source": [
    "@timed(use_seconds=True, show_args=True)\n",
    "def f1_score_sklearn(gt: np.ndarray, pred: np.ndarray) -> float:\n",
    "    return f1_score(gt, pred)\n",
    "\n",
    "\n",
    "@timed(use_seconds=True, show_args=True)\n",
    "def f1_score_numpy(gt: np.ndarray, pred: np.ndarray) -> float:\n",
    "    tp, fp, fn, tn=tp_fp_fn_tn_numpy(gt, pred)\n",
    "    return 2*(((tp/(tp+fp))*(tp/(tp+fn)))/((tp/(tp+fp))+(tp/(tp+fn))))\n",
    "\n",
    "print(f1_score_sklearn(actual, predicted))\n",
    "print(f1_score_numpy(actual, predicted))\n",
    "# assert f1_score_sklearn(actual, predicted) == f1_score_numpy(actual, predicted)"
   ]
  },
  {
   "cell_type": "code",
   "execution_count": 24,
   "metadata": {
    "id": "a2LsucKI5rB4"
   },
   "outputs": [
    {
     "name": "stdout",
     "output_type": "stream",
     "text": [
      "f1_score_sklearn(ndarray(5000000,), ndarray(5000000,)) -> total time: 0.149936875s\n",
      "tp_fp_fn_tn_numpy(ndarray(5000000,), ndarray(5000000,)) -> total time: 0.008974250s\n",
      "f1_score_numpy(ndarray(5000000,), ndarray(5000000,)) -> total time: 0.046707250s\n"
     ]
    }
   ],
   "source": [
    "rez_1 = f1_score_sklearn(big_actual, big_predicted)\n",
    "rez_2 = f1_score_numpy(big_actual, big_predicted)\n",
    "\n",
    "assert np.isclose(rez_1, rez_2)"
   ]
  },
  {
   "cell_type": "markdown",
   "metadata": {
    "id": "uVLThSs4-9GP"
   },
   "source": [
    "```\n",
    "f1_score_sklearn(ndarray(5000000,), ndarray(5000000,)) -> total time: 5.300984584s\n",
    "f1_score_numpy(ndarray(5000000,), ndarray(5000000,)) -> total time: 0.042523483s\n",
    "```"
   ]
  }
 ],
 "metadata": {
  "colab": {
   "include_colab_link": true,
   "name": "RN-2024-Lab01",
   "provenance": []
  },
  "kaggle": {
   "accelerator": "none",
   "dataSources": [],
   "dockerImageVersionId": 30775,
   "isGpuEnabled": false,
   "isInternetEnabled": true,
   "language": "python",
   "sourceType": "notebook"
  },
  "kernelspec": {
   "display_name": "313",
   "language": "python",
   "name": "python3"
  },
  "language_info": {
   "codemirror_mode": {
    "name": "ipython",
    "version": 3
   },
   "file_extension": ".py",
   "mimetype": "text/x-python",
   "name": "python",
   "nbconvert_exporter": "python",
   "pygments_lexer": "ipython3",
   "version": "3.13.7"
  }
 },
 "nbformat": 4,
 "nbformat_minor": 0
}
